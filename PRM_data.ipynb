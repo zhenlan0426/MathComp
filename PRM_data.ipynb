{
 "cells": [
  {
   "cell_type": "code",
   "execution_count": 1,
   "metadata": {},
   "outputs": [],
   "source": [
    "from datasets import load_dataset"
   ]
  },
  {
   "cell_type": "code",
   "execution_count": 2,
   "metadata": {},
   "outputs": [
    {
     "name": "stderr",
     "output_type": "stream",
     "text": [
      "Special tokens have been added in the vocabulary, make sure the associated word embeddings are fine-tuned or trained.\n"
     ]
    }
   ],
   "source": [
    "import re\n",
    "from transformers import AutoTokenizer\n",
    "import torch\n",
    "tokenizer = AutoTokenizer.from_pretrained('deepseek-ai/deepseek-math-7b-rl')"
   ]
  },
  {
   "cell_type": "markdown",
   "metadata": {},
   "source": [
    "#### math-shepherd"
   ]
  },
  {
   "cell_type": "code",
   "execution_count": 3,
   "metadata": {},
   "outputs": [],
   "source": [
    "# tokenizer.encode(' ки')[-1] # 14682\n",
    "def remove_and_track_indices(lst, target=14682):\n",
    "    # remove target and return the index of token before target in new list\n",
    "    indices_of_target = [i for i, num in enumerate(lst) if num == target]\n",
    "    adjusted_indices = []\n",
    "    count = 0  # Counter to keep track of how many targets have been removed\n",
    "\n",
    "    for index in indices_of_target:\n",
    "        if index > 0:  # Ensure there is an element before the target\n",
    "            adjusted_indices.append(index - 1 - count)\n",
    "        count += 1  # Increment for each target found\n",
    "    \n",
    "    lst = [num for num in lst if num != target]  # Create a new list without the target\n",
    "    return lst, adjusted_indices\n",
    "\n",
    "def process_texts(example):\n",
    "    t1, t2 = example['input'],example['label']\n",
    "    i = 0\n",
    "    j = 0  # separate index for t2\n",
    "    result_list = []\n",
    "    while i < len(t1):\n",
    "        if t1[i:i+2] == \"ки\":\n",
    "            if t2[j] == '+':\n",
    "                result_list.append(1)\n",
    "            elif t2[j] == '-':\n",
    "                result_list.append(0)\n",
    "            i += 2  # Skip \"ки\" in t1\n",
    "            j += 1  # Move past the corresponding '+' or '-' in t2\n",
    "        else:\n",
    "            i += 1\n",
    "            j += 1  # Keep t2 in sync with t1\n",
    "\n",
    "    s = re.sub(r\"Step \\d+: \", \"\", t1) # Step i\n",
    "    s = re.sub(r\"<<[^>]*>>\", \"\", s) # <<80*2=1600>>\n",
    "    input_id = tokenizer.encode(s)\n",
    "    input_id,index = remove_and_track_indices(input_id)\n",
    "    example['input_id'] = input_id\n",
    "    example['index'] = index\n",
    "    example['targets'] = result_list\n",
    "    return example"
   ]
  },
  {
   "cell_type": "code",
   "execution_count": 4,
   "metadata": {},
   "outputs": [
    {
     "data": {
      "application/vnd.jupyter.widget-view+json": {
       "model_id": "35c9b16099b842cd94b1b8b4940cbdfe",
       "version_major": 2,
       "version_minor": 0
      },
      "text/plain": [
       "Map (num_proc=4):   0%|          | 0/444655 [00:00<?, ? examples/s]"
      ]
     },
     "metadata": {},
     "output_type": "display_data"
    }
   ],
   "source": [
    "dataset = load_dataset(\"peiyi9979/Math-Shepherd\")\n",
    "processed_dataset = dataset.map(process_texts, num_proc=4)"
   ]
  },
  {
   "cell_type": "code",
   "execution_count": 5,
   "metadata": {},
   "outputs": [],
   "source": [
    "processed_dataset = processed_dataset.remove_columns(['input', 'label', 'task'])"
   ]
  },
  {
   "cell_type": "code",
   "execution_count": 8,
   "metadata": {},
   "outputs": [
    {
     "data": {
      "application/vnd.jupyter.widget-view+json": {
       "model_id": "d2663210ce24495ebfa88d9668d8aaf1",
       "version_major": 2,
       "version_minor": 0
      },
      "text/plain": [
       "Saving the dataset (0/2 shards):   0%|          | 0/444655 [00:00<?, ? examples/s]"
      ]
     },
     "metadata": {},
     "output_type": "display_data"
    }
   ],
   "source": [
    "processed_dataset.save_to_disk('../Data/Math-Shepherd')"
   ]
  },
  {
   "cell_type": "code",
   "execution_count": 2,
   "metadata": {},
   "outputs": [],
   "source": [
    "dataset = load_dataset(\"peiyi9979/Math-Shepherd\")"
   ]
  },
  {
   "cell_type": "code",
   "execution_count": 26,
   "metadata": {},
   "outputs": [],
   "source": []
  },
  {
   "cell_type": "markdown",
   "metadata": {},
   "source": [
    "#### generataion"
   ]
  },
  {
   "cell_type": "code",
   "execution_count": 1,
   "metadata": {},
   "outputs": [
    {
     "name": "stderr",
     "output_type": "stream",
     "text": [
      "Special tokens have been added in the vocabulary, make sure the associated word embeddings are fine-tuned or trained.\n"
     ]
    }
   ],
   "source": [
    "import os\n",
    "import pandas as pd\n",
    "from transformers import AutoTokenizer\n",
    "tokenizer = AutoTokenizer.from_pretrained('deepseek-ai/deepseek-math-7b-rl')"
   ]
  },
  {
   "cell_type": "code",
   "execution_count": 2,
   "metadata": {},
   "outputs": [
    {
     "name": "stdout",
     "output_type": "stream",
     "text": [
      "../llmOutputs/model1/generations.csv\n",
      "../llmOutputs/model8/generations.csv\n",
      "../llmOutputs/model5/generations.csv\n",
      "../llmOutputs/model2/generations.csv\n",
      "../llmOutputs/model4/generations.csv\n",
      "../llmOutputs/model9/generations.csv\n",
      "../llmOutputs/model7/generations.csv\n",
      "../llmOutputs/model6/generations.csv\n"
     ]
    }
   ],
   "source": [
    "directory = \"../llmOutputs\"\n",
    "texts = []\n",
    "targets = []\n",
    "starts_ends = []\n",
    "for root, _, files in os.walk(directory):\n",
    "    for file in files:\n",
    "        # Check if the file is a CSV\n",
    "        if file.endswith('.csv'):\n",
    "            # Construct the full file path\n",
    "            file_path = os.path.join(root, file)\n",
    "            df = pd.read_csv(file_path)\n",
    "            print(file_path)\n",
    "            problems = tokenizer.batch_encode_plus(df.problem.tolist(),add_special_tokens=True,return_attention_mask=False)['input_ids']\n",
    "            solutions = tokenizer.batch_encode_plus(df.output.tolist(),add_special_tokens=False,return_attention_mask=False)['input_ids']\n",
    "            texts.extend([p+s for p,s in zip(problems,solutions)])\n",
    "            # yhats can be error msg.\n",
    "            yhats = []\n",
    "            for yhat in df.yhat.tolist():\n",
    "                try:\n",
    "                    yhat = int(yhat)\n",
    "                except:\n",
    "                    yhat = float(\"-inf\")\n",
    "                yhats.append(yhat)\n",
    "            targets.extend([(y==yhat)*1.0 for y,yhat in zip(df.y.tolist(),yhats)])\n",
    "            # start from problem + 10 contexts (need some context)\n",
    "            starts_ends.extend([(len(p)+10,len(p)+len(s)-1) for p,s in zip(problems,solutions)])"
   ]
  },
  {
   "cell_type": "code",
   "execution_count": 3,
   "metadata": {},
   "outputs": [],
   "source": [
    "import pickle\n",
    "with open('../Data/PRM_data/gen_texts.pkl', 'wb') as file:\n",
    "    pickle.dump(texts, file)\n",
    "with open('../Data/PRM_data/gen_targets.pkl', 'wb') as file:\n",
    "    pickle.dump(targets, file)\n",
    "with open('../Data/PRM_data/gen_starts_ends.pkl', 'wb') as file:\n",
    "    pickle.dump(starts_ends, file)       "
   ]
  },
  {
   "cell_type": "code",
   "execution_count": null,
   "metadata": {},
   "outputs": [],
   "source": []
  },
  {
   "cell_type": "markdown",
   "metadata": {},
   "source": [
    "#### Solution"
   ]
  },
  {
   "cell_type": "code",
   "execution_count": 17,
   "metadata": {},
   "outputs": [
    {
     "name": "stderr",
     "output_type": "stream",
     "text": [
      "Special tokens have been added in the vocabulary, make sure the associated word embeddings are fine-tuned or trained.\n"
     ]
    }
   ],
   "source": [
    "import json\n",
    "from transformers import AutoTokenizer\n",
    "tokenizer = AutoTokenizer.from_pretrained('deepseek-ai/deepseek-math-7b-rl')"
   ]
  },
  {
   "cell_type": "code",
   "execution_count": 13,
   "metadata": {},
   "outputs": [],
   "source": [
    "file_paths = ['../Data/OlympiadBench_Dataset/data/TP_MM_maths_en_COMP.json',\n",
    "                '../Data/OlympiadBench_Dataset/data/OE_MM_maths_en_COMP.json',\n",
    "                '../Data/OlympiadBench_Dataset/data/OE_TO_maths_en_COMP.json',\n",
    "                '../Data/OlympiadBench_Dataset/data/TP_TO_maths_en_COMP.json',\n",
    "                '../Data/AMC/aime_normal.json', \n",
    "                '../Data/AMC/amc12_normal.json', \n",
    "                '../Data/MATH/outputs_normal.json']"
   ]
  },
  {
   "cell_type": "code",
   "execution_count": 34,
   "metadata": {},
   "outputs": [
    {
     "name": "stderr",
     "output_type": "stream",
     "text": [
      "Token indices sequence length is longer than the specified maximum sequence length for this model (4491 > 4096). Running this sequence through the model will result in indexing errors\n"
     ]
    }
   ],
   "source": [
    "texts = []\n",
    "starts_ends = []\n",
    "\n",
    "for file_path in file_paths:\n",
    "    with open(file_path, 'r') as file:\n",
    "        data = json.load(file)\n",
    "    \n",
    "    problems = []\n",
    "    solutions = []\n",
    "    for d in data:\n",
    "        # more than one sol for a given problem\n",
    "        problem = d['question']\n",
    "        for sol in d['solution']:\n",
    "            problems.append(problem)\n",
    "            solutions.append(sol)\n",
    "    \n",
    "    problems = tokenizer.batch_encode_plus(problems,add_special_tokens=True,return_attention_mask=False)['input_ids']\n",
    "    solutions = tokenizer.batch_encode_plus(solutions,add_special_tokens=False,return_attention_mask=False)['input_ids']\n",
    "    texts.extend([p+s for p,s in zip(problems,solutions)])\n",
    "\n",
    "    # start from problem + 10 contexts (need some context)\n",
    "    starts_ends.extend([(len(p)+10,len(p)+len(s)-1) for p,s in zip(problems,solutions)])    "
   ]
  },
  {
   "cell_type": "code",
   "execution_count": 38,
   "metadata": {},
   "outputs": [],
   "source": [
    "import pickle\n",
    "with open('../Data/PRM_data/sol_texts.pkl', 'wb') as file:\n",
    "    pickle.dump(texts, file)\n",
    "with open('../Data/PRM_data/sol_starts_ends.pkl', 'wb') as file:\n",
    "    pickle.dump(starts_ends, file) "
   ]
  },
  {
   "cell_type": "code",
   "execution_count": null,
   "metadata": {},
   "outputs": [],
   "source": []
  },
  {
   "cell_type": "markdown",
   "metadata": {},
   "source": [
    "#### MMOS"
   ]
  },
  {
   "cell_type": "code",
   "execution_count": 14,
   "metadata": {},
   "outputs": [],
   "source": [
    "from datasets import load_dataset,load_from_disk\n",
    "ds = load_dataset(\"cyzhh/MMOS\")"
   ]
  },
  {
   "cell_type": "code",
   "execution_count": 2,
   "metadata": {},
   "outputs": [
    {
     "name": "stderr",
     "output_type": "stream",
     "text": [
      "Special tokens have been added in the vocabulary, make sure the associated word embeddings are fine-tuned or trained.\n"
     ]
    }
   ],
   "source": [
    "from transformers import AutoTokenizer\n",
    "tokenizer = AutoTokenizer.from_pretrained('deepseek-ai/deepseek-math-7b-rl')"
   ]
  },
  {
   "cell_type": "code",
   "execution_count": 3,
   "metadata": {},
   "outputs": [],
   "source": [
    "def process_texts(example):\n",
    "    problem, solution = example['prompt'],example['completion']\n",
    "    problem = problem.replace(\"<|user|> \",\"\").replace(\"<|assistant|> \",\"\")\n",
    "    problem, solution = tokenizer.encode(problem,add_special_tokens=True), \\\n",
    "                        tokenizer.encode(solution,add_special_tokens=False)\n",
    "    example['input_id'] = problem + solution\n",
    "    example['starts_ends'] = (len(problem)+10,len(problem)+len(solution)-1)\n",
    "    return example"
   ]
  },
  {
   "cell_type": "code",
   "execution_count": 4,
   "metadata": {},
   "outputs": [],
   "source": [
    "processed_dataset = ds.map(process_texts, num_proc=4)"
   ]
  },
  {
   "cell_type": "code",
   "execution_count": 7,
   "metadata": {},
   "outputs": [],
   "source": [
    "processed_dataset = processed_dataset.remove_columns(['idx','prompt', 'completion'])"
   ]
  },
  {
   "cell_type": "code",
   "execution_count": 11,
   "metadata": {},
   "outputs": [
    {
     "data": {
      "application/vnd.jupyter.widget-view+json": {
       "model_id": "457dc08c1faf48f28c48d0c9cc977c68",
       "version_major": 2,
       "version_minor": 0
      },
      "text/plain": [
       "Saving the dataset (0/1 shards):   0%|          | 0/134610 [00:00<?, ? examples/s]"
      ]
     },
     "metadata": {},
     "output_type": "display_data"
    }
   ],
   "source": [
    "processed_dataset.save_to_disk('../Data/MMOS')"
   ]
  },
  {
   "cell_type": "code",
   "execution_count": null,
   "metadata": {},
   "outputs": [],
   "source": []
  }
 ],
 "metadata": {
  "kernelspec": {
   "display_name": "base",
   "language": "python",
   "name": "python3"
  },
  "language_info": {
   "codemirror_mode": {
    "name": "ipython",
    "version": 3
   },
   "file_extension": ".py",
   "mimetype": "text/x-python",
   "name": "python",
   "nbconvert_exporter": "python",
   "pygments_lexer": "ipython3",
   "version": "3.10.13"
  }
 },
 "nbformat": 4,
 "nbformat_minor": 2
}
