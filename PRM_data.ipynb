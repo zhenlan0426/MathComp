{
 "cells": [
  {
   "cell_type": "code",
   "execution_count": 1,
   "metadata": {},
   "outputs": [],
   "source": [
    "from datasets import load_dataset\n",
    "dataset = load_dataset(\"peiyi9979/Math-Shepherd\")"
   ]
  },
  {
   "cell_type": "code",
   "execution_count": 2,
   "metadata": {},
   "outputs": [
    {
     "name": "stderr",
     "output_type": "stream",
     "text": [
      "You are using the default legacy behaviour of the <class 'transformers.models.llama.tokenization_llama.LlamaTokenizer'>. This is expected, and simply means that the `legacy` (previous) behavior will be used so nothing changes for you. If you want to use the new behaviour, set `legacy=False`. This should only be set if you understand what it means, and thoroughly read the reason why this was added as explained in https://github.com/huggingface/transformers/pull/24565\n"
     ]
    }
   ],
   "source": [
    "import re\n",
    "from transformers import AutoTokenizer\n",
    "import torch\n",
    "tokenizer = AutoTokenizer.from_pretrained('peiyi9979/math-shepherd-mistral-7b-prm')\n",
    "\n",
    "def remove_and_track_indices(lst, target=12902):\n",
    "    # remove target and return the index of token before target in new list\n",
    "    indices_of_target = [i for i, num in enumerate(lst) if num == target]\n",
    "    adjusted_indices = []\n",
    "    count = 0  # Counter to keep track of how many targets have been removed\n",
    "\n",
    "    for index in indices_of_target:\n",
    "        if index > 0:  # Ensure there is an element before the target\n",
    "            adjusted_indices.append(index - 1 - count)\n",
    "        count += 1  # Increment for each target found\n",
    "    \n",
    "    lst = [num for num in lst if num != target]  # Create a new list without the target\n",
    "    return lst, adjusted_indices\n",
    "\n",
    "def process_texts(example):\n",
    "    t1, t2 = example['input'],example['label']\n",
    "    i = 0\n",
    "    j = 0  # separate index for t2\n",
    "    result_list = []\n",
    "    while i < len(t1):\n",
    "        if t1[i:i+2] == \"ки\":\n",
    "            if t2[j] == '+':\n",
    "                result_list.append(1)\n",
    "            elif t2[j] == '-':\n",
    "                result_list.append(0)\n",
    "            i += 2  # Skip \"ки\" in t1\n",
    "            j += 1  # Move past the corresponding '+' or '-' in t2\n",
    "        else:\n",
    "            i += 1\n",
    "            j += 1  # Keep t2 in sync with t1\n",
    "\n",
    "    s = re.sub(r\"Step \\d+: \", \"\", t1) # Step i\n",
    "    s = re.sub(r\"<<[^>]*>>\", \"\", s) # <<80*2=1600>>\n",
    "    input_id = tokenizer.encode(s)\n",
    "    input_id,index = remove_and_track_indices(input_id)\n",
    "    example['input_id'] = input_id\n",
    "    example['index'] = index\n",
    "    example['targets'] = result_list\n",
    "    return example"
   ]
  },
  {
   "cell_type": "code",
   "execution_count": 3,
   "metadata": {},
   "outputs": [
    {
     "data": {
      "application/vnd.jupyter.widget-view+json": {
       "model_id": "5299498dd8184aceae1d2c675d93f904",
       "version_major": 2,
       "version_minor": 0
      },
      "text/plain": [
       "Map (num_proc=4):   0%|          | 0/444655 [00:00<?, ? examples/s]"
      ]
     },
     "metadata": {},
     "output_type": "display_data"
    }
   ],
   "source": [
    "processed_dataset = dataset.map(process_texts, num_proc=4)"
   ]
  },
  {
   "cell_type": "code",
   "execution_count": 4,
   "metadata": {},
   "outputs": [],
   "source": [
    "processed_dataset = processed_dataset.remove_columns(['input', 'label', 'task'])"
   ]
  },
  {
   "cell_type": "code",
   "execution_count": 11,
   "metadata": {},
   "outputs": [
    {
     "data": {
      "application/vnd.jupyter.widget-view+json": {
       "model_id": "d120685660284189b3bc63d750dce4fa",
       "version_major": 2,
       "version_minor": 0
      },
      "text/plain": [
       "Saving the dataset (0/2 shards):   0%|          | 0/444655 [00:00<?, ? examples/s]"
      ]
     },
     "metadata": {},
     "output_type": "display_data"
    }
   ],
   "source": [
    "processed_dataset.save_to_disk('../Data/Math-Shepherd')"
   ]
  },
  {
   "cell_type": "code",
   "execution_count": 1,
   "metadata": {},
   "outputs": [
    {
     "data": {
      "application/vnd.jupyter.widget-view+json": {
       "model_id": "eb8d16f47deb4f678283c85c8d5a968e",
       "version_major": 2,
       "version_minor": 0
      },
      "text/plain": [
       "Generating train split: 0 examples [00:00, ? examples/s]"
      ]
     },
     "metadata": {},
     "output_type": "display_data"
    }
   ],
   "source": [
    "from datasets import load_dataset\n",
    "dataset = load_dataset('../Data/Math-Shepherd')"
   ]
  },
  {
   "cell_type": "code",
   "execution_count": null,
   "metadata": {},
   "outputs": [],
   "source": []
  }
 ],
 "metadata": {
  "kernelspec": {
   "display_name": "base",
   "language": "python",
   "name": "python3"
  },
  "language_info": {
   "codemirror_mode": {
    "name": "ipython",
    "version": 3
   },
   "file_extension": ".py",
   "mimetype": "text/x-python",
   "name": "python",
   "nbconvert_exporter": "python",
   "pygments_lexer": "ipython3",
   "version": "3.10.13"
  }
 },
 "nbformat": 4,
 "nbformat_minor": 2
}
