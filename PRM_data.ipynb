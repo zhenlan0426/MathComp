{
 "cells": [
  {
   "cell_type": "code",
   "execution_count": 1,
   "metadata": {},
   "outputs": [],
   "source": [
    "from datasets import load_dataset"
   ]
  },
  {
   "cell_type": "code",
   "execution_count": 4,
   "metadata": {},
   "outputs": [
    {
     "name": "stderr",
     "output_type": "stream",
     "text": [
      "Special tokens have been added in the vocabulary, make sure the associated word embeddings are fine-tuned or trained.\n"
     ]
    }
   ],
   "source": [
    "import re\n",
    "from transformers import AutoTokenizer\n",
    "import torch\n",
    "tokenizer = AutoTokenizer.from_pretrained('deepseek-ai/deepseek-math-7b-rl')"
   ]
  },
  {
   "cell_type": "markdown",
   "metadata": {},
   "source": [
    "#### math-shepherd"
   ]
  },
  {
   "cell_type": "code",
   "execution_count": 3,
   "metadata": {},
   "outputs": [],
   "source": [
    "\n",
    "# tokenizer.encode(' ки')[-1] # 14682\n",
    "def remove_and_track_indices(lst, target=14682):\n",
    "    # remove target and return the index of token before target in new list\n",
    "    indices_of_target = [i for i, num in enumerate(lst) if num == target]\n",
    "    adjusted_indices = []\n",
    "    count = 0  # Counter to keep track of how many targets have been removed\n",
    "\n",
    "    for index in indices_of_target:\n",
    "        if index > 0:  # Ensure there is an element before the target\n",
    "            adjusted_indices.append(index - 1 - count)\n",
    "        count += 1  # Increment for each target found\n",
    "    \n",
    "    lst = [num for num in lst if num != target]  # Create a new list without the target\n",
    "    return lst, adjusted_indices\n",
    "\n",
    "def process_texts(example):\n",
    "    t1, t2 = example['input'],example['label']\n",
    "    i = 0\n",
    "    j = 0  # separate index for t2\n",
    "    result_list = []\n",
    "    while i < len(t1):\n",
    "        if t1[i:i+2] == \"ки\":\n",
    "            if t2[j] == '+':\n",
    "                result_list.append(1)\n",
    "            elif t2[j] == '-':\n",
    "                result_list.append(0)\n",
    "            i += 2  # Skip \"ки\" in t1\n",
    "            j += 1  # Move past the corresponding '+' or '-' in t2\n",
    "        else:\n",
    "            i += 1\n",
    "            j += 1  # Keep t2 in sync with t1\n",
    "\n",
    "    s = re.sub(r\"Step \\d+: \", \"\", t1) # Step i\n",
    "    s = re.sub(r\"<<[^>]*>>\", \"\", s) # <<80*2=1600>>\n",
    "    input_id = tokenizer.encode(s)\n",
    "    input_id,index = remove_and_track_indices(input_id)\n",
    "    example['input_id'] = input_id\n",
    "    example['index'] = index\n",
    "    example['targets'] = result_list\n",
    "    return example"
   ]
  },
  {
   "cell_type": "code",
   "execution_count": 4,
   "metadata": {},
   "outputs": [
    {
     "data": {
      "application/vnd.jupyter.widget-view+json": {
       "model_id": "5f1f6155182c44ce9e6624d50431538d",
       "version_major": 2,
       "version_minor": 0
      },
      "text/plain": [
       "Map (num_proc=8):   0%|          | 0/444655 [00:00<?, ? examples/s]"
      ]
     },
     "metadata": {},
     "output_type": "display_data"
    }
   ],
   "source": [
    "dataset = load_dataset(\"peiyi9979/Math-Shepherd\")\n",
    "processed_dataset = dataset.map(process_texts, num_proc=8)"
   ]
  },
  {
   "cell_type": "code",
   "execution_count": 5,
   "metadata": {},
   "outputs": [],
   "source": [
    "processed_dataset = processed_dataset.remove_columns(['input', 'label', 'task'])"
   ]
  },
  {
   "cell_type": "code",
   "execution_count": 8,
   "metadata": {},
   "outputs": [
    {
     "data": {
      "application/vnd.jupyter.widget-view+json": {
       "model_id": "d2663210ce24495ebfa88d9668d8aaf1",
       "version_major": 2,
       "version_minor": 0
      },
      "text/plain": [
       "Saving the dataset (0/2 shards):   0%|          | 0/444655 [00:00<?, ? examples/s]"
      ]
     },
     "metadata": {},
     "output_type": "display_data"
    }
   ],
   "source": [
    "processed_dataset.save_to_disk('../Data/Math-Shepherd')"
   ]
  },
  {
   "cell_type": "code",
   "execution_count": 10,
   "metadata": {},
   "outputs": [],
   "source": [
    "from datasets import load_dataset\n",
    "dataset = load_dataset('../Data/Math-Shepherd')"
   ]
  },
  {
   "cell_type": "markdown",
   "metadata": {},
   "source": [
    "#### generataion"
   ]
  },
  {
   "cell_type": "code",
   "execution_count": 1,
   "metadata": {},
   "outputs": [
    {
     "name": "stderr",
     "output_type": "stream",
     "text": [
      "Special tokens have been added in the vocabulary, make sure the associated word embeddings are fine-tuned or trained.\n"
     ]
    }
   ],
   "source": [
    "import os\n",
    "import pandas as pd\n",
    "from transformers import AutoTokenizer\n",
    "tokenizer = AutoTokenizer.from_pretrained('deepseek-ai/deepseek-math-7b-rl')"
   ]
  },
  {
   "cell_type": "code",
   "execution_count": 2,
   "metadata": {},
   "outputs": [
    {
     "name": "stdout",
     "output_type": "stream",
     "text": [
      "../llmOutputs/model1/generations.csv\n",
      "../llmOutputs/model3/generations.csv\n",
      "../llmOutputs/model2/generations.csv\n"
     ]
    }
   ],
   "source": [
    "directory = \"../llmOutputs\"\n",
    "texts = []\n",
    "targets = []\n",
    "starts_ends = []\n",
    "for root, _, files in os.walk(directory):\n",
    "    for file in files:\n",
    "        # Check if the file is a CSV\n",
    "        if file.endswith('.csv'):\n",
    "            # Construct the full file path\n",
    "            file_path = os.path.join(root, file)\n",
    "            df = pd.read_csv(file_path)\n",
    "            print(file_path)\n",
    "            problems = tokenizer.batch_encode_plus(df.problem.tolist(),add_special_tokens=True,return_attention_mask=False)['input_ids']\n",
    "            solutions = tokenizer.batch_encode_plus(df.output.tolist(),add_special_tokens=False,return_attention_mask=False)['input_ids']\n",
    "            texts.extend([p+s for p,s in zip(problems,solutions)])\n",
    "            # yhats can be error msg.\n",
    "            yhats = []\n",
    "            for yhat in df.yhat.tolist():\n",
    "                try:\n",
    "                    yhat = int(yhat)\n",
    "                except:\n",
    "                    yhat = float(\"-inf\")\n",
    "                yhats.append(yhat)\n",
    "            targets.extend([(y==yhat)*1.0 for y,yhat in zip(df.y.tolist(),yhats)])\n",
    "            # start from problem + 10 contexts (need some context)\n",
    "            starts_ends.extend([(len(p)+10,len(p)+len(s)-1) for p,s in zip(problems,solutions)])"
   ]
  },
  {
   "cell_type": "code",
   "execution_count": null,
   "metadata": {},
   "outputs": [],
   "source": []
  }
 ],
 "metadata": {
  "kernelspec": {
   "display_name": "base",
   "language": "python",
   "name": "python3"
  },
  "language_info": {
   "codemirror_mode": {
    "name": "ipython",
    "version": 3
   },
   "file_extension": ".py",
   "mimetype": "text/x-python",
   "name": "python",
   "nbconvert_exporter": "python",
   "pygments_lexer": "ipython3",
   "version": "3.10.13"
  }
 },
 "nbformat": 4,
 "nbformat_minor": 2
}
