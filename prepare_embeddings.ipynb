{
 "cells": [
  {
   "cell_type": "code",
   "execution_count": 1,
   "metadata": {},
   "outputs": [],
   "source": [
    "from sentence_transformers import SentenceTransformer\n",
    "from sentence_transformers.util import cos_sim\n",
    "import json\n",
    "import numpy as np\n",
    "from functions import get_name"
   ]
  },
  {
   "cell_type": "code",
   "execution_count": 2,
   "metadata": {},
   "outputs": [],
   "source": [
    "MODEL_PATH = [\"mixedbread-ai/mxbai-embed-large-v1\"]\n",
    "DATA_PATH = ['../Data/AMC/aime_normal.json',\\\n",
    "             '../Data/AMC/amc12_normal.json',\\\n",
    "             '../Data/OlympiadBench_Dataset/data/OE_TO_maths_en_COMP.json', \\\n",
    "             '../Data/OlympiadBench_Dataset/data/TP_TO_maths_en_COMP.json'] # proof data, not for eval\n",
    "OUT_PATH = '../Data/Embeddings'"
   ]
  },
  {
   "cell_type": "code",
   "execution_count": 3,
   "metadata": {},
   "outputs": [],
   "source": [
    "for model_name in MODEL_PATH:\n",
    "    model = SentenceTransformer(model_name)\n",
    "    for data_path in DATA_PATH:\n",
    "        with open(data_path, 'r') as file:\n",
    "            data = json.load(file)\n",
    "        output_questions = []\n",
    "        output_context = []\n",
    "        for input_dict in data:\n",
    "            question = input_dict.get('question', '')\n",
    "            solution_list = input_dict.get('solution', [])\n",
    "            # TODO: take shortest sol as context now. need to revisit\n",
    "            solution = min(solution_list, key=len)\n",
    "            # TODO: now only encode question, test question + answer\n",
    "            output_questions.append(question)\n",
    "            output_context.append(f\"{question} Solution: {solution}\")\n",
    "        embeddings = model.encode(output_questions)\n",
    "        # embed_folder = create_next_model_folder(OUT_PATH)\n",
    "        np.save(OUT_PATH + '/' + get_name(model_name) + \"--\" + get_name(data_path) +'.npy', embeddings)\n",
    "        with open(OUT_PATH + '/' + get_name(data_path) + 'context.json', 'w') as f:\n",
    "            json.dump(output_context, f)"
   ]
  },
  {
   "cell_type": "code",
   "execution_count": null,
   "metadata": {},
   "outputs": [],
   "source": []
  }
 ],
 "metadata": {
  "kernelspec": {
   "display_name": "base",
   "language": "python",
   "name": "python3"
  },
  "language_info": {
   "codemirror_mode": {
    "name": "ipython",
    "version": 3
   },
   "file_extension": ".py",
   "mimetype": "text/x-python",
   "name": "python",
   "nbconvert_exporter": "python",
   "pygments_lexer": "ipython3",
   "version": "3.10.13"
  }
 },
 "nbformat": 4,
 "nbformat_minor": 2
}
