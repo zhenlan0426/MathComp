{
 "cells": [
  {
   "cell_type": "markdown",
   "metadata": {},
   "source": [
    "normalize to the following format for all datasets\n",
    "\n",
    "[{'question':str,\n",
    "  'solution': [str...],\n",
    "  'final_answer': [str...]\n",
    "}]"
   ]
  },
  {
   "cell_type": "markdown",
   "metadata": {},
   "source": [
    "### AMC/AIME"
   ]
  },
  {
   "cell_type": "code",
   "execution_count": 1,
   "metadata": {},
   "outputs": [],
   "source": [
    "import json\n",
    "import re\n",
    "from functions import clean_author"
   ]
  },
  {
   "cell_type": "code",
   "execution_count": 2,
   "metadata": {},
   "outputs": [],
   "source": [
    "with open('../Data/AMC/aime.json', 'r') as file:\n",
    "    data = json.load(file)\n",
    "with open('../Data/AMC/amc12.json', 'r') as file:\n",
    "    data2 = json.load(file)"
   ]
  },
  {
   "cell_type": "code",
   "execution_count": 1,
   "metadata": {},
   "outputs": [],
   "source": [
    "def rename_key(oldName,newName,my_dict):\n",
    "    my_dict[newName] = my_dict[oldName]\n",
    "    del my_dict[oldName]"
   ]
  },
  {
   "cell_type": "code",
   "execution_count": 13,
   "metadata": {},
   "outputs": [],
   "source": [
    "with open('../Data/AMC/aime.json', 'r') as file:\n",
    "    data = json.load(file)\n",
    "outputs = []\n",
    "for input_dict in data:\n",
    "    # context = input_dict.get('context', '')\n",
    "    # context is about world knowledge for physics. dont need to know to solve maths.\n",
    "    rename_key('problem','question',input_dict)\n",
    "    rename_key('solutions','solution',input_dict)\n",
    "    rename_key('answers','final_answer',input_dict)\n",
    "    input_dict['solution'] = [clean_author(sol['solution']) for sol in input_dict['solution']]\n",
    "with open('../Data/AMC/aime_normal.json', 'w') as file:\n",
    "    json.dump(data,file)"
   ]
  },
  {
   "cell_type": "code",
   "execution_count": 20,
   "metadata": {},
   "outputs": [],
   "source": [
    "with open('../Data/AMC/amc12.json', 'r') as file:\n",
    "    data = json.load(file)\n",
    "outputs = []\n",
    "for input_dict in data:\n",
    "    # context = input_dict.get('context', '')\n",
    "    # context is about world knowledge for physics. dont need to know to solve maths.\n",
    "    rename_key('problem','question',input_dict)\n",
    "    rename_key('solutions','solution',input_dict)\n",
    "    rename_key('answers','final_answer',input_dict)\n",
    "    input_dict['solution'] = [clean_author(sol['solution']) for sol in input_dict['solution']]\n",
    "with open('../Data/AMC/amc12_normal.json', 'w') as file:\n",
    "    json.dump(data,file)"
   ]
  },
  {
   "cell_type": "code",
   "execution_count": null,
   "metadata": {},
   "outputs": [],
   "source": []
  },
  {
   "cell_type": "markdown",
   "metadata": {},
   "source": [
    "### OlympiadBench\n",
    "  * OE: Open-ended questions\n",
    "  * TP: Theorem proof problems\n",
    "  * MM: Multimodal\n",
    "  * TO: Text-only\n",
    "  * physics: Physics problems\n",
    "  * maths: Math problems\n",
    "  * en: English\n",
    "  * zh: Chinese\n",
    "  * COMP: Competition problems\n",
    "  * CEE: Chinese College Entrance Exam problems\n",
    "  \n",
    "  deepseek is trained on Chinese and English. So we can FT on both language.\n",
    "\n",
    "  physics data is included\n",
    "  \n",
    "  context is not included. context is about world knowledge for physics. dont need to know to solve maths."
   ]
  },
  {
   "cell_type": "markdown",
   "metadata": {},
   "source": [
    "#### already in the desired format!"
   ]
  },
  {
   "cell_type": "code",
   "execution_count": null,
   "metadata": {},
   "outputs": [],
   "source": []
  },
  {
   "cell_type": "markdown",
   "metadata": {},
   "source": [
    "### MATH\n",
    "this data does not have separate field for final answer. Seems to be boxed{\\\\left( 0, \\\\frac{1}{4} \\\\right)}"
   ]
  },
  {
   "cell_type": "code",
   "execution_count": 11,
   "metadata": {},
   "outputs": [],
   "source": [
    "import os\n",
    "import glob\n",
    "import json"
   ]
  },
  {
   "cell_type": "code",
   "execution_count": 12,
   "metadata": {},
   "outputs": [],
   "source": [
    "files = glob.glob(os.path.join('../Data/MATH', '**', '*.json'), recursive=True)"
   ]
  },
  {
   "cell_type": "code",
   "execution_count": 17,
   "metadata": {},
   "outputs": [],
   "source": [
    "outputs = []\n",
    "for file_ in files:\n",
    "    if 'outputs' in file_:\n",
    "        continue\n",
    "    with open(file_, 'r') as file:\n",
    "        data = json.load(file)\n",
    "    rename_key('problem','question',data)\n",
    "    if isinstance(data['solution'],str):\n",
    "        data['solution'] = [data['solution'],]\n",
    "    outputs.append(data)"
   ]
  },
  {
   "cell_type": "code",
   "execution_count": 20,
   "metadata": {},
   "outputs": [],
   "source": [
    "with open('../Data/MATH/outputs_normal.json', 'w') as f:\n",
    "    json.dump(outputs, f)"
   ]
  },
  {
   "cell_type": "code",
   "execution_count": null,
   "metadata": {},
   "outputs": [],
   "source": []
  }
 ],
 "metadata": {
  "kernelspec": {
   "display_name": "base",
   "language": "python",
   "name": "python3"
  },
  "language_info": {
   "codemirror_mode": {
    "name": "ipython",
    "version": 3
   },
   "file_extension": ".py",
   "mimetype": "text/x-python",
   "name": "python",
   "nbconvert_exporter": "python",
   "pygments_lexer": "ipython3",
   "version": "3.10.13"
  }
 },
 "nbformat": 4,
 "nbformat_minor": 2
}
