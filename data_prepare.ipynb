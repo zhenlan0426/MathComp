{
 "cells": [
  {
   "cell_type": "markdown",
   "metadata": {},
   "source": [
    "### AMC/AIME"
   ]
  },
  {
   "cell_type": "code",
   "execution_count": 1,
   "metadata": {},
   "outputs": [],
   "source": [
    "import json\n",
    "with open('../Data/AMC/aime.json', 'r') as file:\n",
    "    data = json.load(file)"
   ]
  },
  {
   "cell_type": "code",
   "execution_count": 2,
   "metadata": {},
   "outputs": [],
   "source": [
    "with open('../Data/AMC/amc12.json', 'r') as file:\n",
    "    data2 = json.load(file)"
   ]
  },
  {
   "cell_type": "code",
   "execution_count": 49,
   "metadata": {},
   "outputs": [],
   "source": [
    "import re\n",
    "def clean_author(text):\n",
    "    # Trim trailing newline characters\n",
    "    text = text.rstrip('\\n')\n",
    "    \n",
    "    # Split the text into lines\n",
    "    lines = text.split('\\n')\n",
    "    \n",
    "    # Check if the last line starts with '~' and remove it if it does\n",
    "    # this remove author at the end\n",
    "    if lines and lines[-1].startswith('~'):\n",
    "        lines = lines[:-1]\n",
    "    \n",
    "    # Join the lines back into a text string\n",
    "    cleaned_text = '\\n'.join(lines)\n",
    "\n",
    "    email_pattern = r'\\b[A-Za-z0-9._%+-]+@[A-Za-z0-9.-]+\\.(com|org|net|edu)\\b'\n",
    "    \n",
    "    # Replace all occurrences of the email pattern with an empty string\n",
    "    cleaned_text = re.sub(email_pattern, '', cleaned_text)\n",
    "    return cleaned_text"
   ]
  },
  {
   "cell_type": "code",
   "execution_count": 50,
   "metadata": {},
   "outputs": [],
   "source": [
    "outputs = []\n",
    "\n",
    "for input_dict in (data+data2):\n",
    "    # context = input_dict.get('context', '')\n",
    "    # context is about world knowledge for physics. dont need to know to solve maths.\n",
    "    question = input_dict.get('problem', '')\n",
    "    solution_list = input_dict.get('solutions', [])  # Default to an empty list if not found\n",
    "    # solution = ' '.join(solution_list)\n",
    "    for solution in solution_list:\n",
    "\n",
    "        # Concatenate the fields\n",
    "        # concatenated_string = f\"{context} {question} Solution: {solution}\"\n",
    "        concatenated_string = f\"{question} Solution: {clean_author(solution['solution'])}\"\n",
    "    \n",
    "        # Append the result to the outputs list\n",
    "        outputs.append(concatenated_string)"
   ]
  },
  {
   "cell_type": "code",
   "execution_count": 59,
   "metadata": {},
   "outputs": [
    {
     "data": {
      "text/plain": [
       "5733"
      ]
     },
     "execution_count": 59,
     "metadata": {},
     "output_type": "execute_result"
    }
   ],
   "source": [
    "len(outputs)"
   ]
  },
  {
   "cell_type": "code",
   "execution_count": 3,
   "metadata": {},
   "outputs": [
    {
     "data": {
      "text/plain": [
       "(975, 1124)"
      ]
     },
     "execution_count": 3,
     "metadata": {},
     "output_type": "execute_result"
    }
   ],
   "source": [
    "len(data),len(data2)"
   ]
  },
  {
   "cell_type": "code",
   "execution_count": 4,
   "metadata": {},
   "outputs": [
    {
     "data": {
      "text/plain": [
       "2099"
      ]
     },
     "execution_count": 4,
     "metadata": {},
     "output_type": "execute_result"
    }
   ],
   "source": [
    "975+1124"
   ]
  },
  {
   "cell_type": "code",
   "execution_count": 60,
   "metadata": {},
   "outputs": [],
   "source": [
    "output_file_path = '../Data/AMC/outputs.json'\n",
    "with open(output_file_path, 'w', encoding='utf-8') as f:\n",
    "    json.dump(outputs, f, ensure_ascii=False, indent=None)"
   ]
  },
  {
   "cell_type": "code",
   "execution_count": 61,
   "metadata": {},
   "outputs": [],
   "source": [
    "with open(output_file_path, 'r', encoding='utf-8') as f:\n",
    "    # Load the list from the JSON file\n",
    "    loaded_outputs = json.load(f)"
   ]
  },
  {
   "cell_type": "code",
   "execution_count": 62,
   "metadata": {},
   "outputs": [
    {
     "data": {
      "text/plain": [
       "True"
      ]
     },
     "execution_count": 62,
     "metadata": {},
     "output_type": "execute_result"
    }
   ],
   "source": [
    "all([i==j for i,j in zip(outputs,loaded_outputs)])"
   ]
  },
  {
   "cell_type": "code",
   "execution_count": null,
   "metadata": {},
   "outputs": [],
   "source": []
  },
  {
   "cell_type": "markdown",
   "metadata": {},
   "source": [
    "### OlympiadBench\n",
    "  * OE: Open-ended questions\n",
    "  * TP: Theorem proof problems\n",
    "  * MM: Multimodal\n",
    "  * TO: Text-only\n",
    "  * physics: Physics problems\n",
    "  * maths: Math problems\n",
    "  * en: English\n",
    "  * zh: Chinese\n",
    "  * COMP: Competition problems\n",
    "  * CEE: Chinese College Entrance Exam problems\n",
    "  \n",
    "  deepseek is trained on Chinese and English. So we can FT on both language.\n",
    "\n",
    "  physics data is included\n",
    "  \n",
    "  context is not included. context is about world knowledge for physics. dont need to know to solve maths."
   ]
  },
  {
   "cell_type": "code",
   "execution_count": 5,
   "metadata": {},
   "outputs": [],
   "source": [
    "import os\n",
    "import json\n",
    "\n",
    "directory_path = '../Data/OlympiadBench_Dataset/data'\n",
    "# files_with_en = [file for file in os.listdir(directory_path) if \"en\" in file and 'TO' in file]\n",
    "# files_with_en = [file for file in os.listdir(directory_path) if \"en\" in file]\n",
    "files_with_en = [file for file in os.listdir(directory_path) if \"output\" not in file]\n",
    "# Process each file\n",
    "outputs = []\n",
    "for file_name in files_with_en:\n",
    "    # Construct the full path to the file\n",
    "    file_path = os.path.join(directory_path, file_name)\n",
    "    \n",
    "    with open(file_path, 'r', encoding='utf-8') as file:\n",
    "        inputs = json.load(file)\n",
    "    \n",
    "    # For each input, extract the desired fields, concatenate them, and add to the outputs list\n",
    "    for input_dict in inputs:\n",
    "        # context = input_dict.get('context', '')\n",
    "        # context is about world knowledge for physics. dont need to know to solve maths.\n",
    "        question = input_dict.get('question', '')\n",
    "        solution_list = input_dict.get('solution', [])  # Default to an empty list if not found\n",
    "        # solution = ' '.join(solution_list)\n",
    "        for solution in solution_list:\n",
    "\n",
    "            # Concatenate the fields\n",
    "            # concatenated_string = f\"{context} {question} Solution: {solution}\"\n",
    "            concatenated_string = f\"{question} Solution: {solution}\"\n",
    "        \n",
    "            # Append the result to the outputs list\n",
    "            outputs.append(concatenated_string)"
   ]
  },
  {
   "cell_type": "code",
   "execution_count": 4,
   "metadata": {},
   "outputs": [],
   "source": [
    "output_file_path = os.path.join(directory_path, 'outputs.json')\n",
    "\n",
    "with open(output_file_path, 'w', encoding='utf-8') as f:\n",
    "    json.dump(outputs, f, ensure_ascii=False, indent=None)"
   ]
  },
  {
   "cell_type": "code",
   "execution_count": 6,
   "metadata": {},
   "outputs": [],
   "source": [
    "import json\n",
    "import os \n",
    "directory_path = '../Data/OlympiadBench_Dataset/data'\n",
    "output_file_path = os.path.join(directory_path, 'outputs.json')\n",
    "# Open the file for reading\n",
    "with open(output_file_path, 'r', encoding='utf-8') as f:\n",
    "    # Load the list from the JSON file\n",
    "    loaded_outputs = json.load(f)"
   ]
  },
  {
   "cell_type": "code",
   "execution_count": 7,
   "metadata": {},
   "outputs": [
    {
     "data": {
      "text/plain": [
       "True"
      ]
     },
     "execution_count": 7,
     "metadata": {},
     "output_type": "execute_result"
    }
   ],
   "source": [
    "all([i==j for i,j in zip(outputs,loaded_outputs)])"
   ]
  },
  {
   "cell_type": "code",
   "execution_count": 5,
   "metadata": {},
   "outputs": [],
   "source": [
    "lens = [len(txt) for txt in outputs]"
   ]
  },
  {
   "cell_type": "code",
   "execution_count": 6,
   "metadata": {},
   "outputs": [],
   "source": [
    "import matplotlib.pyplot as plt"
   ]
  },
  {
   "cell_type": "code",
   "execution_count": 7,
   "metadata": {},
   "outputs": [
    {
     "data": {
      "text/plain": [
       "(array([7.556e+03, 1.107e+03, 3.360e+02, 1.000e+02, 3.500e+01, 2.000e+01,\n",
       "        4.000e+00, 2.000e+00, 2.000e+00, 1.000e+00]),\n",
       " array([   61. ,  1503.6,  2946.2,  4388.8,  5831.4,  7274. ,  8716.6,\n",
       "        10159.2, 11601.8, 13044.4, 14487. ]),\n",
       " <BarContainer object of 10 artists>)"
      ]
     },
     "execution_count": 7,
     "metadata": {},
     "output_type": "execute_result"
    },
    {
     "data": {
      "image/png": "[encoded data removed]",
      "text/plain": [
       "<Figure size 640x480 with 1 Axes>"
      ]
     },
     "metadata": {},
     "output_type": "display_data"
    }
   ],
   "source": [
    "plt.hist(lens)"
   ]
  },
  {
   "cell_type": "code",
   "execution_count": null,
   "metadata": {},
   "outputs": [],
   "source": []
  },
  {
   "cell_type": "markdown",
   "metadata": {},
   "source": [
    "### MATH"
   ]
  },
  {
   "cell_type": "code",
   "execution_count": 11,
   "metadata": {},
   "outputs": [],
   "source": [
    "import os\n",
    "import glob\n",
    "import json"
   ]
  },
  {
   "cell_type": "code",
   "execution_count": 8,
   "metadata": {},
   "outputs": [],
   "source": [
    "files = glob.glob(os.path.join('../Data/MATH', '**', '*.json'), recursive=True)"
   ]
  },
  {
   "cell_type": "code",
   "execution_count": 26,
   "metadata": {},
   "outputs": [],
   "source": [
    "outputs = []\n",
    "for file_ in files:\n",
    "    with open(file_, 'r') as file:\n",
    "        data = json.load(file)\n",
    "    concatenated_string = f\"{data['problem']} Solution: {data['solution']}\"\n",
    "    outputs.append(concatenated_string)"
   ]
  },
  {
   "cell_type": "code",
   "execution_count": 30,
   "metadata": {},
   "outputs": [],
   "source": [
    "with open('../Data/MATH/outputs.json', 'w', encoding='utf-8') as f:\n",
    "    json.dump(outputs, f, ensure_ascii=False, indent=None)"
   ]
  },
  {
   "cell_type": "code",
   "execution_count": null,
   "metadata": {},
   "outputs": [],
   "source": []
  }
 ],
 "metadata": {
  "kernelspec": {
   "display_name": "base",
   "language": "python",
   "name": "python3"
  },
  "language_info": {
   "codemirror_mode": {
    "name": "ipython",
    "version": 3
   },
   "file_extension": ".py",
   "mimetype": "text/x-python",
   "name": "python",
   "nbconvert_exporter": "python",
   "pygments_lexer": "ipython3",
   "version": "3.10.13"
  }
 },
 "nbformat": 4,
 "nbformat_minor": 2
}
