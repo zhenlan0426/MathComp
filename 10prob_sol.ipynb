{
 "cells": [
  {
   "cell_type": "code",
   "execution_count": 1,
   "metadata": {},
   "outputs": [],
   "source": [
    "import pandas as pd"
   ]
  },
  {
   "cell_type": "code",
   "execution_count": 2,
   "metadata": {},
   "outputs": [],
   "source": [
    "data = pd.read_csv(\"/home/zhenlan/Desktop/Projects/IMO/Data/ai-mathematical-olympiad-prize/train.csv\")"
   ]
  },
  {
   "cell_type": "code",
   "execution_count": 3,
   "metadata": {},
   "outputs": [],
   "source": [
    "pd.set_option('display.max_colwidth', None)"
   ]
  },
  {
   "cell_type": "code",
   "execution_count": 4,
   "metadata": {},
   "outputs": [],
   "source": [
    "code_sol = []"
   ]
  },
  {
   "cell_type": "code",
   "execution_count": 5,
   "metadata": {},
   "outputs": [],
   "source": [
    "code_sol.append((0,\n",
    "\"\"\"\n",
    "from sympy import *\n",
    "def squared_distance():\n",
    "    x, y, k, l = symbols('x y k l', real=True)\n",
    "    # Define the parabola and line equations\n",
    "    parabola = k*x**2 - 2*k*x + l\n",
    "    line = 4\n",
    "    # Solve for the intersection points\n",
    "    intersection_points = solve(Eq(parabola, line), x)\n",
    "    # Extract the x-coordinates of the intersection points\n",
    "    x1, x2 = intersection_points\n",
    "    # Calculate the y-coordinate (it's the same for both points)\n",
    "    y1 = line\n",
    "    # Calculate the distance between the two points\n",
    "    distance = sqrt((x2 - x1)**2 + (y1 - y1)**2)\n",
    "    # Set up the equation for the distance\n",
    "    distance_eq = Eq(distance, 6)\n",
    "    # Solve the equation for k\n",
    "    k_sol = solve(distance_eq, k)[0]\n",
    "    # Substitute the value of k into the x-coordinates\n",
    "    x1_sol = x1.subs(k, k_sol)\n",
    "    x2_sol = x2.subs(k, k_sol)\n",
    "    # Calculate the distances from the points to the origin\n",
    "    dist1 = sqrt(x1_sol**2 + y1**2)\n",
    "    dist2 = sqrt(x2_sol**2 + y1**2)\n",
    "    # Calculate the sum of the squares of the distances\n",
    "    sum_of_squares = simplify(dist1**2 + dist2**2)\n",
    "    return sum_of_squares\n",
    "sum_of_squares = squared_distance()\n",
    "print(sum_of_squares)\n",
    "\"\"\"))"
   ]
  },
  {
   "cell_type": "code",
   "execution_count": 6,
   "metadata": {},
   "outputs": [],
   "source": [
    "code_sol.append((3,\"\"\"\n",
    "from sympy import *\n",
    "def minimum_value():\n",
    "    x, y = symbols('x y', real=True)\n",
    "    # Define the objective function\n",
    "    f = 5*x**2 + 5*y**2 - 8*x*y\n",
    "    # Use the constraint to eliminate one variable\n",
    "    eq = Eq(abs(x - 2*y) + abs(y - 2*x), 40)\n",
    "    y_sol = solve(eq, y)\n",
    "    # Substitute the solution into the objective function\n",
    "    f_x = f.subs(y, y_sol[0])\n",
    "    # Find the critical points\n",
    "    df_dx = diff(f_x, x)\n",
    "    critical_points = solve(df_dx)\n",
    "    # Evaluate the objective function at the critical points and the boundary points\n",
    "    min_val = f_x.subs(x, critical_points[0])\n",
    "    for i in range(1, len(critical_points)):\n",
    "        min_val = min(min_val, f_x.subs(x, critical_points[i]))\n",
    "    return min_val\n",
    "min_val = minimum_value()\n",
    "print(min_val)\n",
    "\"\"\"))"
   ]
  },
  {
   "cell_type": "code",
   "execution_count": 7,
   "metadata": {},
   "outputs": [],
   "source": [
    "code_sol.append((4,\"\"\"def get_sum():\n",
    "    # 2-digit integers ranges from 10 to 99. 5 such integers require 5 nested loops a1, a2, a3, a4, a5.\n",
    "    # this is a increasing sequence, hence a5 > a4 > a3 > a2 > a1.\n",
    "    for a1 in range(10,99+1):\n",
    "        # a2 is greater than a1, hence start from a1 + 1\n",
    "        for a2 in range(a1+1, 99+1):\n",
    "            # a3 is greater than a2, hence start from a2 + 1\n",
    "            for a3 in range(a2+1, 99+1):\n",
    "                # a4 is greater than a3, hence start from a3 + 1\n",
    "                for a4 in range(a3+1, 99+1):\n",
    "                    # a5 is greater than a4, hence start from a4 + 1\n",
    "                    for a5 in range(a4+1, 99+1):\n",
    "                        # geometric sequence implies common ratio\n",
    "                        if a1 / a2 == a2 / a3 == a3 / a4 == a4 / a5:\n",
    "                            # unique solution implies we can return the first match\n",
    "                            return a1 + a2 + a3 + a4 + a5\n",
    "answer = get_sum()\n",
    "print(answer)\"\"\"))"
   ]
  },
  {
   "cell_type": "code",
   "execution_count": 8,
   "metadata": {},
   "outputs": [],
   "source": [
    "code_sol.append((5,\"\"\"from sympy import *\n",
    "def valid_m_count():\n",
    "    x = Symbol('x', real=True)\n",
    "    # m is positive integer\n",
    "    m = Symbol('m', integer=True, positive=True)\n",
    "    # Define the equation\n",
    "    eq = Eq(abs(abs(x - 1) - 2), m/100)\n",
    "    # Initialize a counter for the number of valid m values\n",
    "    valid_m_count = 0\n",
    "    # Iterate over possible m values from -1000 to 1000\n",
    "    for m_val in range(-1000, 1000+1):\n",
    "        # Substitute the current m value into the equation\n",
    "        curr_eq = eq.subs(m, m_val)\n",
    "        # Solve the equation for the current m value\n",
    "        solutions = solveset(curr_eq, x, domain=Reals)\n",
    "        # Check if the solution set is a FiniteSet (indicating distinct solutions)\n",
    "        if isinstance(solutions, FiniteSet):\n",
    "            # Check if there are exactly 4 distinct real solutions\n",
    "            if len(solutions) == 4:\n",
    "                valid_m_count += 1\n",
    "    return valid_m_count\n",
    "answer = valid_m_count()\n",
    "print(answer)\"\"\"))"
   ]
  },
  {
   "cell_type": "code",
   "execution_count": 9,
   "metadata": {},
   "outputs": [],
   "source": [
    "code_sol.append((6,\"\"\"from sympy import *\n",
    "\n",
    "# 4 dice each with 6 possibility\n",
    "total_outcomes = 6**4\n",
    "successful_outcomes = 0\n",
    "\n",
    "# 4 dice requires 4 nested loops, each range from 1 to 6 as there are 6 sides.\n",
    "for die1 in range(1, 7):\n",
    "    for die2 in range(1, 7):\n",
    "        for die3 in range(1, 7):\n",
    "            for die4 in range(1, 7):\n",
    "                # Check if the highest roll is a 5\n",
    "                if max(die1, die2, die3, die4) == 5:\n",
    "                    successful_outcomes += 1\n",
    "\n",
    "# Calculate the probability\n",
    "probability = Rational(successful_outcomes, total_outcomes)\n",
    "\n",
    "# Get the numerator (a) and denominator (b) of the probability\n",
    "a = probability.p\n",
    "b = probability.q\n",
    "\n",
    "# Print the sum of a and b\n",
    "print(a + b)\"\"\"))"
   ]
  },
  {
   "cell_type": "code",
   "execution_count": 10,
   "metadata": {},
   "outputs": [],
   "source": [
    "code_sol.append((8,\"\"\"from sympy import *\n",
    "# Points\n",
    "A = Point(0, 0)\n",
    "B = Point(1, 0)\n",
    "C = Point(1, 1)\n",
    "D = Point(0, 1)\n",
    "P = Point(Rational(1,20), 0)\n",
    "Q = Point(0, Rational(1,24))\n",
    "# Lines\n",
    "line_DP = Line(D, P)\n",
    "line_BQ = Line(B, Q)\n",
    "# Intersection\n",
    "intersection = line_DP.intersection(line_BQ)[0]\n",
    "# Areas\n",
    "# Region 1: Quadrilateral A, P, Intersection, Q\n",
    "area1 = Polygon(A, P, intersection, Q).area\n",
    "# Region 2: P, B, Intersection\n",
    "area2 = Polygon(P, B, intersection).area\n",
    "# Region 3: B, C, D, Intersection\n",
    "area3 = Polygon(B, C, D, intersection).area\n",
    "# Region 4: D, Q, Intersection\n",
    "area4 = Polygon(D, Q, intersection).area\n",
    "ratio = max([area1, area2, area3, area4]) / min([area1, area2, area3, area4])\n",
    "print(ratio)\"\"\"))"
   ]
  },
  {
   "cell_type": "code",
   "execution_count": 11,
   "metadata": {},
   "outputs": [],
   "source": [
    "pure = []"
   ]
  },
  {
   "cell_type": "code",
   "execution_count": 12,
   "metadata": {},
   "outputs": [],
   "source": [
    "pure.append(\"\"\"\n",
    "We rewrite the equation as $kx^2 - 2kx + (l - 4) = 0$. The solutions $x_1, x_2$ can be expressed as $\\frac{2k \\pm \\sqrt{2k^2 - 4k(l - 4)}}{2k}$. However, since we know that there exists two solutions to this equations (at points $A$ and $B$), the roots can be also expressed by Vieta's formula, as $x_1 + x_2 = \\frac{2k}{k} = 2$ and $x_1 x_2 = \\frac{l - 4}{k}$. Since both $A$ and $B$ are on the horizontal line, the squared distance between them is:\n",
    "\n",
    "\\begin{align*}\n",
    "    \\vert A B \\vert = \\vert x_2 - x_1 \\vert = \\sqrt{(x_2 - x_1)^2} & = \\sqrt{x_2^2 - 2x_1 x_2 + x_1^2} \\\\\n",
    "    & = \\sqrt{(x_2^2 + 2x_1 x_2 + x_1^2) - 4x_1 x_2} \\\\\n",
    "    & = \\sqrt{(x_1 + x_2)^2 - 4x_1 x_2} = \\sqrt{4 - 4 \\cdot \\frac{l - 4}{k}} = 6 \\\\\n",
    "\\end{align*}\n",
    "\n",
    "When we bring the 6 under the root, we have the relationship between $l$ and $k$: $\\frac{l-4}{k} = -8 \\implies l-4 = -8k$. Without solving the equation explicitly by choosing some values of $l$ and $k$, from the Vieta's formula we can see that $x_1 = -2$ and $x_2 = 4$ fits the criterion $x_1 + x_2 = 2$ and $x_1 x_2 = \\frac{l - 4}{k} = -8$.\n",
    "The squared distances to origin of points $(-2, 4)$ and $(4, 4)$ are $20$ and $32$ respectively (by Pythagorean formula). So the final answer is $52$.\n",
    "\"\"\")"
   ]
  },
  {
   "cell_type": "code",
   "execution_count": 13,
   "metadata": {},
   "outputs": [],
   "source": [
    "pure.append(\"\"\"\n",
    "Key point: start with the smallest yellow number.\\\\\n",
    "Since numbers are from 111 to 999 and if $x$ is yellow, $2x$ is blue, we have $2x\\leq 999$ so that $x\\leq 499$, which means all numbers larger than 499 should be blue. Let $k$ be the smallest yellow number, then every number between $k$ and $2k-1$ can be yellow, since $k$ + $k+1$ = $2k+1$, the smallest sum of two different numbers between $k$ and $2k-1$.\n",
    "To have the largest possible number, we need $2k-1\\leq 499$ so that $k\\leq 250$. If one more yellow number exists, it will either conflict with all numbers larger than 499 should be blue or $k$ be the smallest yellow number. Therefore, the maximum possible number should be 250. The answer is: 250.\n",
    "\"\"\")"
   ]
  },
  {
   "cell_type": "code",
   "execution_count": 14,
   "metadata": {},
   "outputs": [],
   "source": [
    "pure.append(\"\"\"\n",
    "Key point: Box-Ball model.\\\\\n",
    "Notice that only 1 and 2 have factorial less than 6. Hence, the number must be filled in the following three cases:\n",
    "\\begin{enumerate}\n",
    "    \\item only one 1 in the digits: There are total $\\begin{pmatrix} 36\\\\1 \\end{pmatrix}$\n",
    "    \\item only one 2 in the digits: There are total $\\begin{pmatrix} 36\\\\1 \\end{pmatrix}$\n",
    "    \\item two 1s in the digits: There are total $\\begin{pmatrix} 36 \\\\ 2 \\end{pmatrix}$\n",
    "\\end{enumerate}\n",
    "Hence, the total number is given by $$\\begin{pmatrix} 36\\\\1 \\end{pmatrix}+\\begin{pmatrix} 36\\\\1 \\end{pmatrix}+\\begin{pmatrix} 36\\\\2 \\end{pmatrix}=36+36+ \\frac{36\\times 35}{2} = 702$$\n",
    "Answer is: 702.\n",
    "\"\"\")"
   ]
  },
  {
   "cell_type": "code",
   "execution_count": 15,
   "metadata": {},
   "outputs": [],
   "source": [
    "pure.append(\"\"\"\n",
    "The trick here is to notice that $5 = 1 + 2^2$. We can observe that $(x-2y)^2 = x^2 - 4xy + 4y^2$ and $(y-2x)^2 = y^2 - 4xy + 4x^2$. So, the expression $5x^2+5y^2-8xy$ in the problem is actually equal to $(x-2y)^2 + (y-2x)^2$. Let's analyze that expression through the square of $|x-2y| + |y-2x|$:\n",
    "\n",
    "\\begin{align*}\n",
    "    (x-2y)^2 + (y-2x)^2 & = \\left( |x-2y| + |y-2x| \\right)^2 - 2 |x-2y| |y-2x| \\\\\n",
    "    & = 40^2 - 2 |x-2y| |y-2x|\n",
    "\\end{align*}\n",
    "\n",
    "The minimal value is achieved at maximal value of the product $|x-2y| \\cdot |y-2x|$. Using AM-GM inequality, which states that if numbers are bounded by sum then their product is maximized when the numbers are equal:\n",
    "\\begin{equation*}\n",
    "    \\frac{x_1 + x_2 + \\cdots + x_n}{n} \\ge \\sqrt[n]{x_1 \\cdot x_2 \\cdots x_n}\n",
    "\\end{equation*}\n",
    "\n",
    "Then, the maximum value is achieved only and only when $|x-2y| = |y-2x| = 40/2 = 20$. The value of $40^2 - 2 |x-2y| |y-2x|$ will be $1600 - 2 \\cdot 20 \\cdot 20 = 800$. The answer is: 800.\n",
    "\"\"\")"
   ]
  },
  {
   "cell_type": "code",
   "execution_count": 16,
   "metadata": {},
   "outputs": [],
   "source": [
    "pure.append(\"\"\"\n",
    "Basically we need to find such $r$ that $a, ar, ar^2, ar^3, ar^4$ are all within range from 10 to 99. The trick here is to recognize that any progression with $r \\ge 2$ can't be sustained in that range, since minimum $a$ is 10 and $a \\cdot 2^4 = 160 > 99$.\n",
    "\n",
    "Thus, we need to find $r$ in the form $\\frac{m}{n}$ (obviously $r$ is rational). Again, due to constraints, we quickly figure that $m$ can only be $2$. For example, if $n = 3$, then we would need $a \\cdot \\frac{m}{81} \\in \\mathbb{N}$, which can only be satisfied if $a = 81$ but then our progression will be larger than 99.\n",
    "\n",
    "Thus, $n=2$ and the smallest $m$ that can contain the progression within $10\\ldots99$ is $3$. We have progression $16, 24, 36, 54, 81$, and the sum of those numbers is 211. The answer is 211\n",
    "            \"\"\")"
   ]
  },
  {
   "cell_type": "code",
   "execution_count": 17,
   "metadata": {},
   "outputs": [],
   "source": [
    "pure.append(\"\"\"\n",
    "The 4 solutions comes from two nested $\\vert \\cdot \\vert$, moreover the inner modulus, since modulus is always positive, should take values from 0 to 4 (the symmetric point of 0 relative to 2), i.e. $0 \\le \\vert x - 1 \\vert \\le 4$. Which left us with $-3 \\le x \\le 5$.\n",
    "\n",
    "Let's open the outer modulus:\n",
    "\\begin{equation*}\n",
    "    \\frac{m}{100} = \n",
    "    \\begin{dcases}\n",
    "        \\vert x - 1 \\vert - 2, \\quad \\text{if } \\vert x - 1 \\vert \\ge 2 \\\\\n",
    "        2 - \\vert x - 1 \\vert, \\quad \\text{if } \\vert x - 1 \\vert < 2\n",
    "    \\end{dcases}\n",
    "\\end{equation*}\n",
    "We can further open the inner modulus:\n",
    "\\begin{equation*}\n",
    "    \\frac{m}{100} = \n",
    "    \\begin{dcases}\n",
    "        \\begin{dcases}\n",
    "            x - 1 - 2, \\quad \\text{if } x \\ge 1 \\text{ and } x - 1 \\ge 2 \\\\\n",
    "            1 - x - 2, \\quad \\text{if } x < 1 \\text{ and } 1 - x \\ge 2\n",
    "        \\end{dcases}\\\\\n",
    "        \\begin{dcases}\n",
    "            2 - x + 1, \\quad \\text{if } x \\ge 1 \\text{ and } x - 1 < 2 \\\\\n",
    "            2 - 1 + x, \\quad \\text{if } x < 1 \\text{ and } 1 - x < 2\n",
    "        \\end{dcases}\n",
    "    \\end{dcases}\n",
    "\\end{equation*}\n",
    "We can further simplify the cases:\n",
    "\\begin{equation*}\n",
    "    \\frac{m}{100} = \n",
    "    \\begin{dcases}\n",
    "        x - 3, \\quad \\text{if } x \\ge 3 \\\\\n",
    "        - x - 1, \\quad \\text{if } x \\le -1 \\\\\n",
    "        - x + 3, \\quad \\text{if } x \\ge 1 \\text{ and } x < 3 \\\\\n",
    "        x + 1, \\quad \\text{if } x < 1 \\text{ and } x > -1\n",
    "    \\end{dcases}\n",
    "\\end{equation*}\n",
    "Let's take a look at all the possible values each of the case can take, i.e. the co-domain of the above function $m(x)$. From $x - 3\\text{ if } x \\ge 3$, possible values of $\\frac{m}{100}$ are $[0, +\\infty)$. Possible values of $- x - 1, \\text{ if } x \\le -1$ are $[0, +\\infty)$. Possible values of $- x + 3, \\text{ if } x \\ge 1 \\text{ and } x < 3$ are $(0, 2]$. Finally, possible values of $x + 1, \\text{ if } x < 1 \\text{ and } x > -1$ are $[0, 2]$. All these 4 intervals intersects at $(0, 2)$. Note that only $2$ intervals contains $\\{0\\}$ and only $3$ intervals contains $\\{2\\}$, which means these points in the co-domain have $2$ and $3$ distinct solutions in the domain respectively.\n",
    "\n",
    "We proved that $\\frac{m}{100} \\in (0, 2)$, therefore $m \\in (0, 200)$. There are $201$ integers between $0$ and $200$, excluding the two boundary points, we have $199$ possible integer values of $m$. The answer is 199.\n",
    "            \"\"\")"
   ]
  },
  {
   "cell_type": "code",
   "execution_count": 18,
   "metadata": {},
   "outputs": [],
   "source": [
    "pure.append(\"\"\"\n",
    "Suppose that we roll four 6-sided fair dice with faces numbered 1 to~6. Let $a/b$ be the probability that the highest roll is a 5, where $a$ and $b$ are relatively prime positive integers. Find $a + b$.\n",
    "\n",
    "\\subsection*{Solution}\n",
    "The probability of rolling $4$ dice with the highest roll $5$ is\n",
    "\\begin{equation*}\n",
    "    P(\\text{\"highest roll is 5\"}) = P(\\text{\"highest roll is 5 or less\"}) - P(\\text{\"highest roll is 4 or less\"})\n",
    "\\end{equation*}\n",
    "We calculate $P(\\text{\"highest roll is 5 or less\"}) = \\left( \\frac{5}{6} \\right)^4$ and $P(\\text{\"highest roll is 4 or less\"}) = \\left( \\frac{4}{6} \\right)^4$.\n",
    "\n",
    "Then, $P(\\text{\"highest roll is 5\"}) = \\frac{41}{144}$. Since 41 and 144 are co-primes, $144 + 41 = 185$. The answer is: 185\n",
    "            \"\"\")"
   ]
  },
  {
   "cell_type": "code",
   "execution_count": 19,
   "metadata": {},
   "outputs": [],
   "source": [
    "pure.append(\"\"\"We know that $A \\cdot B = 0$ when either $A = 0$ or $B = 0$, so we can split the above equation to: \n",
    "\\begin{align*}\n",
    "    (\\vert x + y \\vert - 10)^2 + ( \\vert x - y \\vert - 10)^2 & = 0, \\\\\n",
    "    (\\vert x \\vert - 8)^2 + ( \\vert y \\vert - 8)^2 & = 0\n",
    "\\end{align*}\n",
    "\n",
    "For the first one, we again can split to 2 parts. Since we have $A + B$ where A and B are perfect squares, they sum up to 0 only when $A = 0$ and $B = 0$. The solution to the first equation is is equivalent to the following system:\n",
    "\\begin{equation*}\n",
    "    \\begin{dcases}\n",
    "        (\\vert x + y \\vert - 10)^2 = 0\\\\\n",
    "        ( \\vert x - y \\vert - 10)^2 = 0\n",
    "    \\end{dcases}\n",
    "\\end{equation*}\n",
    "will yield solutions $\\{x= -10, y= 0\\}, \\{x= 0, y= -10\\}, \\{x= 0, y= 10\\}, \\{x= 10, y= 0\\}$.\n",
    "Similarly, from the second equation we have\n",
    "\\begin{equation*}\n",
    "    \\begin{dcases}\n",
    "        (\\vert x \\vert - 8)^2 = 0\\\\\n",
    "        ( \\vert y \\vert - 8)^2\n",
    "    \\end{dcases}\n",
    "\\end{equation*}\n",
    "The solutions to this are $\\{x= -8, y= 8\\}, \\{x= 8, y= -8\\}, \\{x= 8, y= 8\\}, \\{x= -8, y= -8\\}$. The convex hull that appear from these solutions is visualized in Figure \\ref{fig:enter-label}.\n",
    "The easiest way to compute the area of such polygon is to sum the area of inner square (with vertices at modulus of 8, which is 256, plus 4 times the areas of the triangles, which in sum will give 320.\"\"\")"
   ]
  },
  {
   "cell_type": "code",
   "execution_count": 20,
   "metadata": {},
   "outputs": [],
   "source": [
    "pure.append(\"\"\"Let $ABCD$ be a unit square. Let $P$ be the point on $AB$ such that $|AP| = 1/{20}$ and let $Q$ be the point on $AD$ such that $|AQ| = 1/{24}$. The lines $DP$ and $BQ$ divide the square into four regions. Find the ratio between the areas of the largest region and the smallest region.\n",
    "\n",
    "\\subsection*{Solution}\n",
    "\\begin{figure}[h]\n",
    "    \\centering\n",
    "    \\includegraphics[width=0.35\\linewidth]{image.png}\n",
    "    \\caption{Enter Caption}\n",
    "    \\label{fig:enter-label}\n",
    "\\end{figure}\n",
    "Let the coordinates of the cube be $A = (0, 0)$ and $C = (1, 1)$. The line containing segment $BQ$ can be described through points it intersects, $(0, 1)$ and $(\\frac{1}{24}, 0)$. Similarly, and line containing $DP$ can then be expressed as line going through $(0, \\frac{1}{20})$ and $(1,0)$. So, $BQ$ belongs to $y = 1 - 24x$ and $DP$ belongs to $y = \\frac{1}{20} - \\frac{1}{20}x$.\n",
    "Let $O$ be the intersection point of the segments $BQ$ and $DP$. Its coordinates can be found by solving the system  of two equations above, which will give a solution $1 - 24x = \\frac{1}{20} - \\frac{1}{20}x \\implies \\frac{19}{20} - \\frac{479}{20}x = 0 \\implies x = \\frac{19}{479}$ and $y = \\frac{23}{479}$.\n",
    "\n",
    "We have four different polygons to compute the area of (the coordinates are written in clock-wise order:\n",
    "\\begin{itemize}\n",
    "    \\item[1.] Triangle $BOP = \\{ (0, 1), (\\frac{19}{479}, \\frac{23}{479}), (0, \\frac{1}{20})\\}$\n",
    "    \\item[2.] Quadrilateral $BCDO = \\{ (0, 1), (1, 1), (1, 0), (\\frac{19}{479}, \\frac{23}{479})\\}$ \n",
    "    \\item[2.] Triangle $DQO = \\{ (1, 0), (\\frac{1}{24}, 0), (\\frac{19}{479}, \\frac{23}{479})\\}$ \n",
    "    \\item[2.] Quadrilateral $APOQ = \\{ (0, 0), (0, \\frac{1}{20}), (\\frac{19}{479}, \\frac{23}{479}), (\\frac{1}{24}, 0)\\}$ \n",
    "\\end{itemize}\n",
    "\n",
    "Using Gauss Shoelace formula for points $(x_1, y_1), (x_2, y_2), \\ldots, (x_n, y_n)$, the oriented area (the modulo of which is just normal area) is given by formula $A = \\frac{1}{2} \\sum_{i=1}^{n} x_i y_{i+1} - x_{i+1} y_i$, where the indices are cyclic, meaning $(x_{n+1}, y_{n+1}) = (x_1, y_1)$.\n",
    "\n",
    "Area of $BCDO$ is $-1 -1 + \\frac{23}{479} + \\frac{19}{479} = -\\frac{916}{479}$. Area of $APOQ$ is $-\\frac{19}{20 \\cdot 479} - \\frac{23}{24 \\cdot 479} = -\\frac{24 \\cdot 19 + 20 \\cdot 23}{20 \\cdot 24 \\cdot 479}$. Then, the ratio can be computed as: $\\frac{S(BCDO)}{S(APOQ)} = \\frac{916}{479} \\cdot \\frac{20 \\cdot 24 \\cdot 479}{24 \\cdot 19 + 20 \\cdot 23} = 480$. With that, we can easily compute the areas and find that indeed the smallest polygon is $APOQ$, the largest is $BCDO$, and the areas have ratio $480$.\"\"\")"
   ]
  },
  {
   "cell_type": "code",
   "execution_count": 21,
   "metadata": {},
   "outputs": [],
   "source": [
    "pure.append(\"\"\"The solution below is just my own chain-of-thoughts, it will contain irrelevant elements. Let's analyze in relation to $f(1)$.\n",
    "\\begin{itemize}\n",
    "    \\item $f(2) = 2f(1) + 1$, and $f(f(f(2))) = f(f(2f(1) + 1)) = 16 - 7 = 9$.\n",
    "    \\item $f(4) = 2f(2) + 1 = 4f(1) + 3$, and $f(f(f(4))) = f(f(4f(1) + 3)) = 32 - 7 = 25$.\n",
    "    \\item $f(8) = 2f(4) + 1 = 8f(1) + 7$, and $f(f(f(8))) = f(f(8f(1) + 7)) = 64 - 7 = 57$.\n",
    "    \\item $f(16) = 2f(8) + 1 = 16f(1) + 15$, and $f(f(f(16))) = f(f(16f(1) + 15)) = 128 - 7 = 121$.\n",
    "    \\item $f(32) = 2f(16) + 1 = 32f(1) + 31$, and $f(f(f(32))) = f(f(32f(1) + 31)) = 256 - 7 = 249$.\n",
    "\\end{itemize}\n",
    "\n",
    "In general, we can replace $1$ with $1 \\cdot k$ and the same will hold. We found something interesting, $f(f(f(4))) = 25$, so $f(100) = 4f(25) + 3 = 4f( f(f(f(4))) ) + 3 = 4(8f(4) - 7) + 3 = 32f(4) - 25 = 128f(1) + 71$.\n",
    "\n",
    "Actually, when decomposing $f(100)$, I noticed a neat trick: we can check $f(f(f(f(k))))$ and decompose it in different ways. So, $f(f(f(f(1)))) = f(8 - 7) = f(1) = 8f(1) - 7$. We have: $f(1) = 8f(1) - 7$, thus $f(1) = 1$, so $f(100) = 128 \\cdot 1 + 71 = 199$.\"\"\")"
   ]
  },
  {
   "cell_type": "code",
   "execution_count": 23,
   "metadata": {},
   "outputs": [
    {
     "data": {
      "text/plain": [
       "(10, 6)"
      ]
     },
     "execution_count": 23,
     "metadata": {},
     "output_type": "execute_result"
    }
   ],
   "source": [
    "len(pure), len(code_sol)"
   ]
  },
  {
   "cell_type": "code",
   "execution_count": 34,
   "metadata": {},
   "outputs": [],
   "source": [
    "def gen_prompt3(problem):\n",
    "    return '''Problem: \\n'''+problem+'''\\n\n",
    "Carefully read and understand the problem and use all information in problem statement. No Python code. Show your work step-by-step, explain your reasoning, calculations, mathematical concepts and formulas in detail.\n",
    "Write your final answer as a single integer in the last line of your response, enclosed within \\\\boxed{}.\n",
    "'''\n",
    "def gen_prompt_codeIn1(problem):\n",
    "    return f\"\"\"Problem: {problem}\\n\n",
    "First determine a sympy-based approach for solving the problem. When defining Symbol, use all relevant condition given in problem statement, e.g. positive integer m would translate to Symbol('m', integer=True, positive=True). Be clear so even an idiot can follow your instructions, and your final answer should be integer, not expression, list, tuple or dictionary!\n",
    "Write the entire script covering all the steps (use comments and document it well) and print the final result.\n",
    "Approach:\"\"\""
   ]
  },
  {
   "cell_type": "code",
   "execution_count": 36,
   "metadata": {},
   "outputs": [],
   "source": [
    "outs = []\n",
    "for p,s in zip(data.problem.tolist(),pure):\n",
    "    outs.append((gen_prompt3(p),s))"
   ]
  },
  {
   "cell_type": "code",
   "execution_count": 37,
   "metadata": {},
   "outputs": [],
   "source": [
    "for i,s in code_sol:\n",
    "    outs.append((gen_prompt_codeIn1(data.problem[i]),s))"
   ]
  },
  {
   "cell_type": "code",
   "execution_count": 41,
   "metadata": {},
   "outputs": [],
   "source": [
    "import pickle\n",
    "with open(f\"../Data/ai-mathematical-olympiad-prize/10prob.pickle\", \"wb\") as f:\n",
    "    pickle.dump(outs, f)"
   ]
  },
  {
   "cell_type": "code",
   "execution_count": 44,
   "metadata": {},
   "outputs": [],
   "source": [
    "import json\n",
    "with open('../Data/AMC/aime.json', 'r') as file:\n",
    "    data = json.load(file)\n",
    "from functions import clean_author\n",
    "\n",
    "outputs = []\n",
    "\n",
    "for input_dict in data:\n",
    "    # context = input_dict.get('context', '')\n",
    "    # context is about world knowledge for physics. dont need to know to solve maths.\n",
    "    question = input_dict.get('problem', '')\n",
    "    solution_list = input_dict.get('solutions', [])  # Default to an empty list if not found\n",
    "    # solution = ' '.join(solution_list)\n",
    "    for solution in solution_list:\n",
    "        outputs.append((gen_prompt3(question),clean_author(solution['solution'])))"
   ]
  },
  {
   "cell_type": "code",
   "execution_count": 62,
   "metadata": {},
   "outputs": [],
   "source": [
    "import pickle\n",
    "with open(f\"../Data/AMC/aime_final.pickle\", \"wb\") as f:\n",
    "    pickle.dump(outputs, f)"
   ]
  },
  {
   "cell_type": "code",
   "execution_count": 63,
   "metadata": {},
   "outputs": [],
   "source": [
    "import re\n",
    "clean_text = lambda x:re.sub(r\"(<math>|<\\/math>|<cmath>|<\\/cmath>|\\\\begin\\{align\\*\\}|\\\\end\\{align\\*\\})\", \"\", x)"
   ]
  }
 ],
 "metadata": {
  "kernelspec": {
   "display_name": "vllm",
   "language": "python",
   "name": "python3"
  },
  "language_info": {
   "codemirror_mode": {
    "name": "ipython",
    "version": 3
   },
   "file_extension": ".py",
   "mimetype": "text/x-python",
   "name": "python",
   "nbconvert_exporter": "python",
   "pygments_lexer": "ipython3",
   "version": "3.9.19"
  }
 },
 "nbformat": 4,
 "nbformat_minor": 2
}
