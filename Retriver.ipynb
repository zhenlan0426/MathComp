{
 "cells": [
  {
   "cell_type": "code",
   "execution_count": 13,
   "metadata": {},
   "outputs": [],
   "source": [
    "from transformers import DebertaV2Model, AutoTokenizer\n",
    "from transformers.models.deberta_v2.modeling_deberta_v2 import ContextPooler\n",
    "import torch.optim as optim\n",
    "import torch\n",
    "import torch.nn.functional as F"
   ]
  },
  {
   "cell_type": "code",
   "execution_count": 2,
   "metadata": {},
   "outputs": [],
   "source": [
    "MODEL_PATH = 'microsoft/deberta-v3-large'\n",
    "tokenizer = AutoTokenizer.from_pretrained(MODEL_PATH,use_fast=False)\n",
    "\n",
    "model = DebertaV2Model.from_pretrained(\n",
    "    MODEL_PATH,\n",
    "    device_map = \"cuda\",\n",
    ")"
   ]
  },
  {
   "cell_type": "code",
   "execution_count": 3,
   "metadata": {},
   "outputs": [],
   "source": [
    "# freeze weights\n",
    "for param in model.parameters():\n",
    "    param.requires_grad = False"
   ]
  },
  {
   "cell_type": "code",
   "execution_count": 5,
   "metadata": {},
   "outputs": [],
   "source": [
    "class DebertaV2Feature(torch.nn.Module):\n",
    "    def __init__(self, model):\n",
    "        super(DebertaV2Feature, self).__init__()\n",
    "        config = model.config\n",
    "        self.deberta = model\n",
    "        self.pooler = ContextPooler(config)\n",
    "\n",
    "    def forward(self,input_ids,attention_mask=None):\n",
    "        outputs = self.deberta(\n",
    "            input_ids,\n",
    "            attention_mask=attention_mask,\n",
    "            output_attentions=False,\n",
    "            output_hidden_states=False,\n",
    "            return_dict=None,\n",
    "        )\n",
    "\n",
    "        encoder_layer = outputs[0]\n",
    "        pooled_output = self.pooler(encoder_layer)\n",
    "        return pooled_output"
   ]
  },
  {
   "cell_type": "code",
   "execution_count": 6,
   "metadata": {},
   "outputs": [],
   "source": [
    "model = DebertaV2Feature(model).to('cuda')"
   ]
  },
  {
   "cell_type": "code",
   "execution_count": 8,
   "metadata": {},
   "outputs": [],
   "source": [
    "params_to_optimize = [param for param in model.parameters() if param.requires_grad]\n",
    "optimizer = optim.Adam(params_to_optimize, lr=0.001)"
   ]
  },
  {
   "cell_type": "code",
   "execution_count": 26,
   "metadata": {},
   "outputs": [],
   "source": [
    "input_ids1 = torch.randint(0,1000,(4,32),device='cuda')\n",
    "input_ids2 = torch.randint(0,1000,(4,32),device='cuda')\n",
    "# TODO: attention_mask \n",
    "labels = torch.zeros(4,dtype=torch.float32,device='cuda')\n",
    "labels[2:] = 1\n",
    "# tensor([0, 0, 1, 1], device='cuda:0')\n",
    "# 1 is for same category, 0 different\n",
    "# retrival should do argmax_k"
   ]
  },
  {
   "cell_type": "code",
   "execution_count": 27,
   "metadata": {},
   "outputs": [],
   "source": [
    "outputs1 = model(input_ids=input_ids1) # 4,1024\n",
    "outputs2 = model(input_ids=input_ids2)"
   ]
  },
  {
   "cell_type": "code",
   "execution_count": 28,
   "metadata": {},
   "outputs": [],
   "source": [
    "loss_fn = torch.nn.BCEWithLogitsLoss()\n",
    "logits = F.cosine_similarity(outputs1,outputs2) # cosine_similarity -> (4,)\n",
    "loss = loss_fn(logits, labels)"
   ]
  },
  {
   "cell_type": "code",
   "execution_count": null,
   "metadata": {},
   "outputs": [],
   "source": []
  },
  {
   "cell_type": "code",
   "execution_count": null,
   "metadata": {},
   "outputs": [],
   "source": []
  },
  {
   "cell_type": "code",
   "execution_count": null,
   "metadata": {},
   "outputs": [],
   "source": []
  },
  {
   "cell_type": "code",
   "execution_count": null,
   "metadata": {},
   "outputs": [],
   "source": []
  }
 ],
 "metadata": {
  "kernelspec": {
   "display_name": "base",
   "language": "python",
   "name": "python3"
  },
  "language_info": {
   "codemirror_mode": {
    "name": "ipython",
    "version": 3
   },
   "file_extension": ".py",
   "mimetype": "text/x-python",
   "name": "python",
   "nbconvert_exporter": "python",
   "pygments_lexer": "ipython3",
   "version": "3.10.13"
  }
 },
 "nbformat": 4,
 "nbformat_minor": 2
}
